{
 "cells": [
  {
   "cell_type": "code",
   "execution_count": 1,
   "id": "7eb6e39e-b929-47aa-b128-d444914b47e5",
   "metadata": {},
   "outputs": [
    {
     "name": "stdout",
     "output_type": "stream",
     "text": [
      "PyTorch: 2.7.1+cu118\n",
      "CUDA Available: True\n",
      "CUDA Version: 11.8\n",
      "cuDNN Version: 90100\n",
      "Transformers: 4.52.3\n",
      "SentenceTransformers: 4.1.0\n",
      "Faiss (CPU): 1.11.0\n",
      "scikit-learn: 1.6.1\n",
      "Pandas: 2.2.3\n",
      "NumPy: 1.26.4\n"
     ]
    }
   ],
   "source": [
    "import torch\n",
    "import transformers\n",
    "import sentence_transformers\n",
    "import faiss\n",
    "import sklearn\n",
    "import pandas as pd\n",
    "import numpy as np\n",
    "\n",
    "# Check versions\n",
    "print(\"PyTorch:\", torch.__version__)\n",
    "print(\"CUDA Available:\", torch.cuda.is_available())\n",
    "print(\"CUDA Version:\", torch.version.cuda)\n",
    "print(\"cuDNN Version:\", torch.backends.cudnn.version())\n",
    "\n",
    "print(\"Transformers:\", transformers.__version__)\n",
    "print(\"SentenceTransformers:\", sentence_transformers.__version__)\n",
    "print(\"Faiss (CPU):\", faiss.__version__)\n",
    "print(\"scikit-learn:\", sklearn.__version__)\n",
    "print(\"Pandas:\", pd.__version__)\n",
    "print(\"NumPy:\", np.__version__)\n"
   ]
  },
  {
   "cell_type": "code",
   "execution_count": 2,
   "id": "ecad9143-ac40-4efe-b6b6-e877e4014903",
   "metadata": {},
   "outputs": [
    {
     "name": "stdout",
     "output_type": "stream",
     "text": [
      "Python version: 3.11.0 (main, Oct 24 2022, 18:26:48) [MSC v.1933 64 bit (AMD64)]\n"
     ]
    }
   ],
   "source": [
    "import sys\n",
    "print(\"Python version:\", sys.version)\n"
   ]
  },
  {
   "cell_type": "code",
   "execution_count": null,
   "id": "640ca60b-a929-4e4d-b463-fc72631c72ed",
   "metadata": {},
   "outputs": [],
   "source": []
  }
 ],
 "metadata": {
  "kernelspec": {
   "display_name": "Python 3 (ipykernel)",
   "language": "python",
   "name": "python3"
  },
  "language_info": {
   "codemirror_mode": {
    "name": "ipython",
    "version": 3
   },
   "file_extension": ".py",
   "mimetype": "text/x-python",
   "name": "python",
   "nbconvert_exporter": "python",
   "pygments_lexer": "ipython3",
   "version": "3.11.0"
  }
 },
 "nbformat": 4,
 "nbformat_minor": 5
}
